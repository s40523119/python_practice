{
 "cells": [
  {
   "cell_type": "code",
   "execution_count": null,
   "metadata": {},
   "outputs": [],
   "source": [
    "import os, re\n",
    "import docx\n",
    "from docx import Document"
   ]
  },
  {
   "cell_type": "code",
   "execution_count": null,
   "metadata": {},
   "outputs": [],
   "source": [
    "def parse_priority_year(path):\n",
    "    root = os.getcwd()\n",
    "    docx_path = root + path\n",
    "    document = Document(docx_path)\n",
    "    tables = document.tables\n",
    "    table = tables[0]\n",
    "    year = (table.cell(2,4)).text[:4]\n",
    "    return year"
   ]
  },
  {
   "cell_type": "code",
   "execution_count": null,
   "metadata": {},
   "outputs": [],
   "source": [
    "def parse_all_docx_path():\n",
    "    files_path = list()\n",
    "    files_list = list()\n",
    "    for root, dirs, files in os.walk(\".\"):\n",
    "        if root[-2:] == '練習' or root[-2:] == '例表':\n",
    "            continue\n",
    "        for file in files:\n",
    "            if file.endswith(\".docx\"):\n",
    "                if file[:2] == 'CN' or file[:2] == 'EP' or file[:2] == 'UA':\n",
    "                    #print(os.path.join(root,file))\n",
    "                    files_list.append(file)\n",
    "                    files_path.append((os.path.join(root,file))[1:])\n",
    "    return files_path,  files_list"
   ]
  },
  {
   "cell_type": "code",
   "execution_count": null,
   "metadata": {},
   "outputs": [],
   "source": [
    "def gPriorityYearList():\n",
    "    file_path = parse_all_docx_path()[0]\n",
    "    priority_list = set([(parse_priority_year(path)) for path in file_path])\n",
    "    arg_filter = re.compile(\"\\d\\d\\d\\d\")\n",
    "    priority_list = list(filter(arg_filter.match, priority_list))\n",
    "    priority_list.sort()\n",
    "    return priority_list"
   ]
  },
  {
   "cell_type": "code",
   "execution_count": null,
   "metadata": {},
   "outputs": [],
   "source": [
    "file_path = parse_all_docx_path()[0]\n",
    "fname = parse_all_docx_path()[1]\n",
    "result = dict()\n",
    "for path in file_path:\n",
    "    patent = fname[file_path.index(path)][:-5]\n",
    "    year = parse_priority_year(path)\n",
    "    result.update({patent: year})\n",
    "    #print(fname[file_path.index(path)][:-5] + ' : ' + parse_priority_year(path))"
   ]
  },
  {
   "cell_type": "code",
   "execution_count": null,
   "metadata": {},
   "outputs": [],
   "source": [
    "result = sorted(result.items(), key=lambda kv: kv[1])\n",
    "result"
   ]
  },
  {
   "cell_type": "code",
   "execution_count": null,
   "metadata": {},
   "outputs": [],
   "source": []
  },
  {
   "cell_type": "code",
   "execution_count": null,
   "metadata": {},
   "outputs": [],
   "source": []
  },
  {
   "cell_type": "code",
   "execution_count": null,
   "metadata": {},
   "outputs": [],
   "source": []
  },
  {
   "cell_type": "code",
   "execution_count": null,
   "metadata": {},
   "outputs": [],
   "source": []
  }
 ],
 "metadata": {
  "kernelspec": {
   "display_name": "Python 3",
   "language": "python",
   "name": "python3"
  },
  "language_info": {
   "codemirror_mode": {
    "name": "ipython",
    "version": 3
   },
   "file_extension": ".py",
   "mimetype": "text/x-python",
   "name": "python",
   "nbconvert_exporter": "python",
   "pygments_lexer": "ipython3",
   "version": "3.7.1"
  }
 },
 "nbformat": 4,
 "nbformat_minor": 2
}
